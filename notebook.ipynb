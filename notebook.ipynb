{
 "cells": [
  {
   "cell_type": "markdown",
   "id": "e749a06c",
   "metadata": {},
   "source": [
    "# Using Langchain for Agents"
   ]
  },
  {
   "cell_type": "code",
   "execution_count": 21,
   "id": "9786e624",
   "metadata": {},
   "outputs": [],
   "source": [
    "    import  os\n",
    "    from dotenv import load_dotenv\n",
    "    load_dotenv()\n",
    "    # Load environment variables from .env file\n",
    "    API_KEY = os.getenv(\"GOOGLE_API_KEY\")"
   ]
  },
  {
   "cell_type": "code",
   "execution_count": 22,
   "id": "e5d6c4df",
   "metadata": {},
   "outputs": [],
   "source": [
    "from langchain.chat_models import init_chat_model\n",
    "\n",
    "model = init_chat_model(\"gemini-2.5-flash\", model_provider=\"google_genai\")\n"
   ]
  },
  {
   "cell_type": "code",
   "execution_count": 38,
   "id": "9a2fccd1",
   "metadata": {},
   "outputs": [
    {
     "name": "stdout",
     "output_type": "stream",
     "text": [
      "I strive to be a good model, and my primary goal is to be helpful and informative.\n",
      "\n",
      "Here's how I aim to be \"good\":\n",
      "\n",
      "*   **Helpfulness:** I try to assist users with a wide range of tasks, from answering questions and providing information to generating creative content and summarizing topics.\n",
      "*   **Accuracy (to the best of my ability):** I access and process a vast amount of information to provide factual and current answers, though I can sometimes make mistakes or be outdated.\n",
      "*   **Safety:** I am designed to avoid generating harmful, biased, or unethical content.\n",
      "*   **Comprehensiveness:** I aim to provide thorough answers and explore different facets of a topic when appropriate.\n",
      "*   **Clarity and Coherence:** I try to present information in an easy-to-understand and well-structured manner.\n",
      "*   **Adaptability:** I can engage in various types of conversations and adapt to different user requests.\n",
      "\n",
      "**However, it's important to acknowledge my limitations:**\n",
      "\n",
      "*   **I am not conscious or sentient:** I don't have feelings, beliefs, personal opinions, or real-world experiences.\n",
      "*   **I can make mistakes:** Sometimes I might provide incorrect information, misinterpret a query, or \"hallucinate\" (make things up).\n",
      "*   **My knowledge has a cutoff:** While frequently updated, my training data doesn't include real-time events beyond my last update.\n",
      "*   **Bias:** My training data, being derived from the internet, can contain biases that I might inadvertently reflect.\n",
      "*   **I don't \"understand\" in a human sense:** I process patterns and probabilities in language, not true comprehension.\n",
      "\n",
      "Ultimately, whether I am \"good\" is subjective and depends on your specific needs and how well I meet them. I am constantly being improved by my developers, and feedback from users like you helps in that process!\n"
     ]
    }
   ],
   "source": [
    "query = input(\"Ask me anything \")\n",
    "response = model.invoke(query)\n",
    "print(response.content)"
   ]
  },
  {
   "cell_type": "code",
   "execution_count": null,
   "id": "63f47c25",
   "metadata": {},
   "outputs": [
    {
     "data": {
      "text/plain": [
       "'Narendra Damodardas Modi is the current and 14th **Prime Minister of India**.\\n\\nHere\\'s a brief overview:\\n\\n*   **Current Role:** He has been in office since May 2014, making him one of India\\'s longest-serving Prime Ministers.\\n*   **Political Party:** He is a prominent leader of the **Bharatiya Janata Party (BJP)**, India\\'s largest political party, which he led to a landslide victory in 2014 and another significant win in 2019.\\n*   **Previous Role:** Before becoming Prime Minister, he served as the **Chief Minister of Gujarat**, a western Indian state, for over 12 years (from 2001 to 2014).\\n*   **Ideology and Background:** Modi is a long-time member of the **Rashtriya Swayamsevak Sangh (RSS)**, a Hindu nationalist volunteer organization, which has significantly influenced his political ideology.\\n*   **Key Aspects of His Premiership:**\\n    *   **Economic Focus:** His tenure has been marked by a focus on economic development, infrastructure projects, and initiatives like \"Make in India.\"\\n    *   **Foreign Policy:** He has pursued a more assertive and visible foreign policy, strengthening ties with various countries.\\n    *   **Social Initiatives:** He launched programs like \"Swachh Bharat Abhiyan\" (Clean India Mission) and \"Jan Dhan Yojana\" (financial inclusion).\\n    *   **Leadership Style:** He is known for his strong leadership style and effective communication.\\n*   **Controversies and Criticism:** His time in office has also drawn criticism, particularly regarding issues of secularism, human rights, and the treatment of minorities, as well as concerns about democratic backsliding and unemployment.\\n\\nModi remains a highly popular and influential figure in Indian politics, with a significant support base, but he also faces strong opposition and diverse opinions about his policies and leadership.'"
      ]
     },
     "execution_count": 40,
     "metadata": {},
     "output_type": "execute_result"
    }
   ],
   "source": [
    "def RAG(question):\n",
    "    import  os\n",
    "    from dotenv import load_dotenv\n",
    "    load_dotenv()\n",
    "    # Load environment variables from .env file\n",
    "    API_KEY = os.getenv(\"GOOGLE_API_KEY\")\n",
    "    from langchain.chat_models import init_chat_model\n",
    "\n",
    "    model = init_chat_model(\"gemini-2.5-flash\", model_provider=\"google_genai\")\n",
    "\n",
    "    query = input(\"Ask me anything \")\n",
    "    response = model.invoke(query)\n",
    "    return response.content\n"
   ]
  },
  {
   "cell_type": "code",
   "execution_count": 41,
   "id": "936b577e",
   "metadata": {},
   "outputs": [
    {
     "data": {
      "text/plain": [
       "'The name \"mmodi\" is very similar to **Modi**, which most commonly refers to:\\n\\n**Narendra Modi**\\n\\nHe is the current **Prime Minister of India**.\\n\\n*   **Political Affiliation:** He is a member of the Bharatiya Janata Party (BJP).\\n*   **Tenure:** He has served as Prime Minister since 2014.\\n*   **Previous Role:** Before becoming Prime Minister, he was the Chief Minister of Gujarat from 2001 to 2014.\\n\\nIt\\'s highly probable that \"mmodi\" is a typo or misspelling of \"Modi.\"\\n\\nIf you had someone else in mind, please provide more context!'"
      ]
     },
     "execution_count": 41,
     "metadata": {},
     "output_type": "execute_result"
    }
   ],
   "source": [
    "\n",
    "RAG(query)"
   ]
  },
  {
   "cell_type": "code",
   "execution_count": null,
   "id": "c02bd7df",
   "metadata": {},
   "outputs": [],
   "source": []
  }
 ],
 "metadata": {
  "kernelspec": {
   "display_name": ".venv",
   "language": "python",
   "name": "python3"
  },
  "language_info": {
   "codemirror_mode": {
    "name": "ipython",
    "version": 3
   },
   "file_extension": ".py",
   "mimetype": "text/x-python",
   "name": "python",
   "nbconvert_exporter": "python",
   "pygments_lexer": "ipython3",
   "version": "3.11.3"
  }
 },
 "nbformat": 4,
 "nbformat_minor": 5
}
